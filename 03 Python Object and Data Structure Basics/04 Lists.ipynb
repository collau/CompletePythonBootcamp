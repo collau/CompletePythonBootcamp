{
 "cells": [
  {
   "cell_type": "markdown",
   "id": "496df897",
   "metadata": {},
   "source": [
    "Lists are ordered sequences that can hold a variety of object types.\n",
    "They use [ ] brackets and commas to separate objects in the list.\n",
    "\n",
    "Lists support indexing and slicing. Lists can be nested and also have a variety of useful methods that can be called off of them.\n",
    "\n",
    "Lists are mutable."
   ]
  },
  {
   "cell_type": "code",
   "execution_count": 8,
   "id": "f4c74b35",
   "metadata": {},
   "outputs": [],
   "source": [
    "my_list = [1,2,3]"
   ]
  },
  {
   "cell_type": "code",
   "execution_count": 2,
   "id": "4e1610bf",
   "metadata": {},
   "outputs": [],
   "source": [
    "my_list2 = ['STRING', 100, 23.2]"
   ]
  },
  {
   "cell_type": "markdown",
   "id": "1e632ab7",
   "metadata": {},
   "source": [
    "Checking the length of a list"
   ]
  },
  {
   "cell_type": "code",
   "execution_count": 3,
   "id": "957c0556",
   "metadata": {},
   "outputs": [
    {
     "data": {
      "text/plain": [
       "3"
      ]
     },
     "execution_count": 3,
     "metadata": {},
     "output_type": "execute_result"
    }
   ],
   "source": [
    "len(my_list)"
   ]
  },
  {
   "cell_type": "markdown",
   "id": "1fe2f3a6",
   "metadata": {},
   "source": [
    "Indexing and slicing"
   ]
  },
  {
   "cell_type": "code",
   "execution_count": 4,
   "id": "adec7eff",
   "metadata": {},
   "outputs": [
    {
     "data": {
      "text/plain": [
       "'STRING'"
      ]
     },
     "execution_count": 4,
     "metadata": {},
     "output_type": "execute_result"
    }
   ],
   "source": [
    "my_list2[0]"
   ]
  },
  {
   "cell_type": "code",
   "execution_count": 5,
   "id": "cfb0ba20",
   "metadata": {},
   "outputs": [
    {
     "data": {
      "text/plain": [
       "[100, 23.2]"
      ]
     },
     "execution_count": 5,
     "metadata": {},
     "output_type": "execute_result"
    }
   ],
   "source": [
    "my_list2[1:]"
   ]
  },
  {
   "cell_type": "markdown",
   "id": "aed4a786",
   "metadata": {},
   "source": [
    "Concatentate two lists"
   ]
  },
  {
   "cell_type": "code",
   "execution_count": 6,
   "id": "e5db0182",
   "metadata": {},
   "outputs": [],
   "source": [
    "my_list3 = [\"four\", \"five\"]"
   ]
  },
  {
   "cell_type": "code",
   "execution_count": 7,
   "id": "fcea5135",
   "metadata": {},
   "outputs": [
    {
     "data": {
      "text/plain": [
       "['STRING', 100, 23.2, 'four', 'five']"
      ]
     },
     "execution_count": 7,
     "metadata": {},
     "output_type": "execute_result"
    }
   ],
   "source": [
    "my_list2 + my_list3"
   ]
  },
  {
   "cell_type": "code",
   "execution_count": 9,
   "id": "37db506a",
   "metadata": {},
   "outputs": [],
   "source": [
    "new_list = my_list2 + my_list3"
   ]
  },
  {
   "cell_type": "code",
   "execution_count": 10,
   "id": "ceb669b2",
   "metadata": {},
   "outputs": [
    {
     "data": {
      "text/plain": [
       "['STRING', 100, 23.2, 'four', 'five']"
      ]
     },
     "execution_count": 10,
     "metadata": {},
     "output_type": "execute_result"
    }
   ],
   "source": [
    "new_list"
   ]
  },
  {
   "cell_type": "code",
   "execution_count": 11,
   "id": "2b4834fa",
   "metadata": {},
   "outputs": [],
   "source": [
    "new_list[3] = 'FOUR IS BEST'"
   ]
  },
  {
   "cell_type": "code",
   "execution_count": 12,
   "id": "a30da150",
   "metadata": {},
   "outputs": [
    {
     "data": {
      "text/plain": [
       "['STRING', 100, 23.2, 'FOUR IS BEST', 'five']"
      ]
     },
     "execution_count": 12,
     "metadata": {},
     "output_type": "execute_result"
    }
   ],
   "source": [
    "new_list"
   ]
  },
  {
   "cell_type": "code",
   "execution_count": 13,
   "id": "12b8ece7",
   "metadata": {},
   "outputs": [],
   "source": [
    "new_list.append(6)"
   ]
  },
  {
   "cell_type": "code",
   "execution_count": 14,
   "id": "a6eb5996",
   "metadata": {},
   "outputs": [
    {
     "data": {
      "text/plain": [
       "['STRING', 100, 23.2, 'FOUR IS BEST', 'five', 6]"
      ]
     },
     "execution_count": 14,
     "metadata": {},
     "output_type": "execute_result"
    }
   ],
   "source": [
    "new_list"
   ]
  },
  {
   "cell_type": "markdown",
   "id": "1d27039a",
   "metadata": {},
   "source": [
    "pop(): Removing item from the end of the list"
   ]
  },
  {
   "cell_type": "code",
   "execution_count": 15,
   "id": "7372362c",
   "metadata": {},
   "outputs": [
    {
     "data": {
      "text/plain": [
       "6"
      ]
     },
     "execution_count": 15,
     "metadata": {},
     "output_type": "execute_result"
    }
   ],
   "source": [
    "new_list.pop()"
   ]
  },
  {
   "cell_type": "code",
   "execution_count": 16,
   "id": "44169700",
   "metadata": {},
   "outputs": [
    {
     "data": {
      "text/plain": [
       "['STRING', 100, 23.2, 'FOUR IS BEST', 'five']"
      ]
     },
     "execution_count": 16,
     "metadata": {},
     "output_type": "execute_result"
    }
   ],
   "source": [
    "new_list"
   ]
  },
  {
   "cell_type": "code",
   "execution_count": 17,
   "id": "d7400333",
   "metadata": {},
   "outputs": [
    {
     "data": {
      "text/plain": [
       "'FOUR IS BEST'"
      ]
     },
     "execution_count": 17,
     "metadata": {},
     "output_type": "execute_result"
    }
   ],
   "source": [
    "new_list.pop(3)"
   ]
  },
  {
   "cell_type": "code",
   "execution_count": 18,
   "id": "8ff63a51",
   "metadata": {},
   "outputs": [
    {
     "data": {
      "text/plain": [
       "['STRING', 100, 23.2, 'five']"
      ]
     },
     "execution_count": 18,
     "metadata": {},
     "output_type": "execute_result"
    }
   ],
   "source": [
    "new_list"
   ]
  },
  {
   "cell_type": "code",
   "execution_count": 19,
   "id": "59823e0e",
   "metadata": {},
   "outputs": [],
   "source": [
    "alphabets = ['a','e','x','b','c']\n",
    "numberList = [4,1,8,3]"
   ]
  },
  {
   "cell_type": "code",
   "execution_count": 20,
   "id": "81c5f47b",
   "metadata": {},
   "outputs": [],
   "source": [
    "alphabets.sort()"
   ]
  },
  {
   "cell_type": "code",
   "execution_count": 21,
   "id": "c3b3a671",
   "metadata": {},
   "outputs": [
    {
     "data": {
      "text/plain": [
       "['a', 'b', 'c', 'e', 'x']"
      ]
     },
     "execution_count": 21,
     "metadata": {},
     "output_type": "execute_result"
    }
   ],
   "source": [
    "alphabets"
   ]
  },
  {
   "cell_type": "code",
   "execution_count": 22,
   "id": "2ca2cae4",
   "metadata": {},
   "outputs": [],
   "source": [
    "numberList.reverse()"
   ]
  },
  {
   "cell_type": "code",
   "execution_count": 23,
   "id": "821bb5ce",
   "metadata": {},
   "outputs": [
    {
     "data": {
      "text/plain": [
       "[3, 8, 1, 4]"
      ]
     },
     "execution_count": 23,
     "metadata": {},
     "output_type": "execute_result"
    }
   ],
   "source": [
    "numberList"
   ]
  },
  {
   "cell_type": "code",
   "execution_count": null,
   "id": "87cf30dc",
   "metadata": {},
   "outputs": [],
   "source": []
  }
 ],
 "metadata": {
  "kernelspec": {
   "display_name": "Python 3 (ipykernel)",
   "language": "python",
   "name": "python3"
  },
  "language_info": {
   "codemirror_mode": {
    "name": "ipython",
    "version": 3
   },
   "file_extension": ".py",
   "mimetype": "text/x-python",
   "name": "python",
   "nbconvert_exporter": "python",
   "pygments_lexer": "ipython3",
   "version": "3.9.13"
  }
 },
 "nbformat": 4,
 "nbformat_minor": 5
}
