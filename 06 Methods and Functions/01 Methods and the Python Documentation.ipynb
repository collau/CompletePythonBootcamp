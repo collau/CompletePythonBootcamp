{
 "cells": [
  {
   "cell_type": "markdown",
   "id": "80d973a5",
   "metadata": {},
   "source": [
    "## Methods\n",
    "\n",
    "Built-in objects in Python have a variety of methods that can be used!"
   ]
  },
  {
   "cell_type": "code",
   "execution_count": 1,
   "id": "13736ad4",
   "metadata": {},
   "outputs": [],
   "source": [
    "mylist = [1,2,3]"
   ]
  },
  {
   "cell_type": "code",
   "execution_count": 2,
   "id": "c615e874",
   "metadata": {},
   "outputs": [],
   "source": [
    "mylist.append(4) # append() is a method"
   ]
  },
  {
   "cell_type": "code",
   "execution_count": 3,
   "id": "3ab3a80f",
   "metadata": {},
   "outputs": [
    {
     "data": {
      "text/plain": [
       "[1, 2, 3, 4]"
      ]
     },
     "execution_count": 3,
     "metadata": {},
     "output_type": "execute_result"
    }
   ],
   "source": [
    "mylist"
   ]
  },
  {
   "cell_type": "code",
   "execution_count": 4,
   "id": "cbefcdd6",
   "metadata": {},
   "outputs": [
    {
     "data": {
      "text/plain": [
       "4"
      ]
     },
     "execution_count": 4,
     "metadata": {},
     "output_type": "execute_result"
    }
   ],
   "source": [
    "mylist.pop() # pop() is a method"
   ]
  },
  {
   "cell_type": "code",
   "execution_count": 6,
   "id": "f1e3755f",
   "metadata": {},
   "outputs": [
    {
     "data": {
      "text/plain": [
       "[1, 2, 3]"
      ]
     },
     "execution_count": 6,
     "metadata": {},
     "output_type": "execute_result"
    }
   ],
   "source": [
    "mylist"
   ]
  },
  {
   "cell_type": "markdown",
   "id": "32a6e041",
   "metadata": {},
   "source": [
    "### To display a list of methods:\n",
    "\n",
    "(1) mylist. and hit <i>tab</i>\n",
    "\n",
    "\n",
    "### To see how to use a method:\n",
    "\n",
    "(1) mylist.<i>method</i> and hit <i>shift + tab</i>\n",
    "(2) help(mylist.<i>method</i>"
   ]
  }
 ],
 "metadata": {
  "kernelspec": {
   "display_name": "Python 3 (ipykernel)",
   "language": "python",
   "name": "python3"
  },
  "language_info": {
   "codemirror_mode": {
    "name": "ipython",
    "version": 3
   },
   "file_extension": ".py",
   "mimetype": "text/x-python",
   "name": "python",
   "nbconvert_exporter": "python",
   "pygments_lexer": "ipython3",
   "version": "3.9.13"
  }
 },
 "nbformat": 4,
 "nbformat_minor": 5
}
