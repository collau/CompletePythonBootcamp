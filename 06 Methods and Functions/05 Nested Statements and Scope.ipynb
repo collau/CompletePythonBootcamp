{
 "cells": [
  {
   "cell_type": "markdown",
   "id": "63a76280",
   "metadata": {},
   "source": [
    "# LEGB Rule"
   ]
  },
  {
   "cell_type": "markdown",
   "id": "4f8f5b28",
   "metadata": {},
   "source": [
    "- L: Local -- Names assigned in any way within a function (def or lambda), and not declared global in that function\n",
    "- E: Enclosing function locals -- Names in the local scope of any or all enclosing functions (def or lambda), from inner to outer\n",
    "- G: Global (module) -- Names assigned at the top-level of a module file, or declared global in a def within the file\n",
    "- B: Built-in (Python) -- Names preassigned in the built-in names module : open, range, SyntaxError,..."
   ]
  },
  {
   "cell_type": "code",
   "execution_count": 1,
   "id": "d5bb5869",
   "metadata": {},
   "outputs": [],
   "source": [
    "x = 25\n",
    "\n",
    "def printer():\n",
    "    x = 50\n",
    "    return x"
   ]
  },
  {
   "cell_type": "code",
   "execution_count": 2,
   "id": "cd1b3a5d",
   "metadata": {},
   "outputs": [
    {
     "name": "stdout",
     "output_type": "stream",
     "text": [
      "25\n"
     ]
    }
   ],
   "source": [
    "print(x)"
   ]
  },
  {
   "cell_type": "code",
   "execution_count": 3,
   "id": "d70d9583",
   "metadata": {},
   "outputs": [
    {
     "name": "stdout",
     "output_type": "stream",
     "text": [
      "50\n"
     ]
    }
   ],
   "source": [
    "print(printer())"
   ]
  },
  {
   "cell_type": "code",
   "execution_count": 4,
   "id": "56f544b4",
   "metadata": {},
   "outputs": [
    {
     "name": "stdout",
     "output_type": "stream",
     "text": [
      "25\n"
     ]
    }
   ],
   "source": [
    "print(x)"
   ]
  },
  {
   "cell_type": "markdown",
   "id": "1e456441",
   "metadata": {},
   "source": [
    "### Local"
   ]
  },
  {
   "cell_type": "code",
   "execution_count": 5,
   "id": "ef8c5217",
   "metadata": {},
   "outputs": [],
   "source": [
    "# lambda num : num**2\n",
    "# num is a local variable"
   ]
  },
  {
   "cell_type": "markdown",
   "id": "28c97e09",
   "metadata": {},
   "source": [
    "### Enclosing function locals"
   ]
  },
  {
   "cell_type": "code",
   "execution_count": 8,
   "id": "393db4e0",
   "metadata": {},
   "outputs": [],
   "source": [
    "name = 'THIS IS A GLOBAL STRING' # Global\n",
    "\n",
    "def greet():\n",
    "    name = 'Sammy' # Enclosing function local\n",
    "    \n",
    "    def hello():\n",
    "        print('Hello '+name)\n",
    "        # There is no local name defined\n",
    "    \n",
    "    hello()"
   ]
  },
  {
   "cell_type": "code",
   "execution_count": 9,
   "id": "f97f3426",
   "metadata": {},
   "outputs": [
    {
     "name": "stdout",
     "output_type": "stream",
     "text": [
      "Hello Sammy\n"
     ]
    }
   ],
   "source": [
    "greet()"
   ]
  },
  {
   "cell_type": "code",
   "execution_count": 10,
   "id": "b33c51bc",
   "metadata": {},
   "outputs": [
    {
     "data": {
      "text/plain": [
       "'THIS IS A GLOBAL STRING'"
      ]
     },
     "execution_count": 10,
     "metadata": {},
     "output_type": "execute_result"
    }
   ],
   "source": [
    "name"
   ]
  },
  {
   "cell_type": "markdown",
   "id": "30176320",
   "metadata": {},
   "source": [
    "### Recap"
   ]
  },
  {
   "cell_type": "code",
   "execution_count": 16,
   "id": "a4e0918e",
   "metadata": {},
   "outputs": [],
   "source": [
    "x = 50\n",
    "\n",
    "def func(x):\n",
    "    print(f'X is {x}')\n",
    "    \n",
    "    # LOCAL REASSIGNMENT!\n",
    "    x = 200\n",
    "    print(f'I JUST LOCALLY CHANGED X TO {x}')"
   ]
  },
  {
   "cell_type": "code",
   "execution_count": 17,
   "id": "6a226408",
   "metadata": {},
   "outputs": [
    {
     "name": "stdout",
     "output_type": "stream",
     "text": [
      "X is 50\n",
      "I JUST LOCALLY CHANGED X TO 200\n"
     ]
    }
   ],
   "source": [
    "func(x)"
   ]
  },
  {
   "cell_type": "code",
   "execution_count": 18,
   "id": "d4f355d7",
   "metadata": {},
   "outputs": [
    {
     "name": "stdout",
     "output_type": "stream",
     "text": [
      "50\n"
     ]
    }
   ],
   "source": [
    "print(x)"
   ]
  },
  {
   "cell_type": "markdown",
   "id": "1123bc79",
   "metadata": {},
   "source": [
    "### Reassigning global variables"
   ]
  },
  {
   "cell_type": "code",
   "execution_count": 20,
   "id": "b9b33a4b",
   "metadata": {},
   "outputs": [],
   "source": [
    "y = 50\n",
    "\n",
    "def func1():\n",
    "    global y\n",
    "    print(f'Y is {y}')\n",
    "    \n",
    "    # LOCAL REASSIGNMENT ON A GLOBAL VARIABLE!\n",
    "    y = 888\n",
    "    print(f'I JUST LOCALLY CHANGED GLOBAL Y TO {y}')"
   ]
  },
  {
   "cell_type": "code",
   "execution_count": 21,
   "id": "05ef2f88",
   "metadata": {},
   "outputs": [
    {
     "name": "stdout",
     "output_type": "stream",
     "text": [
      "Y is 50\n",
      "I JUST LOCALLY CHANGED GLOBAL Y TO 888\n"
     ]
    }
   ],
   "source": [
    "func1()"
   ]
  },
  {
   "cell_type": "code",
   "execution_count": 22,
   "id": "22d140f3",
   "metadata": {},
   "outputs": [
    {
     "data": {
      "text/plain": [
       "888"
      ]
     },
     "execution_count": 22,
     "metadata": {},
     "output_type": "execute_result"
    }
   ],
   "source": [
    "y"
   ]
  },
  {
   "cell_type": "code",
   "execution_count": null,
   "id": "804e4412",
   "metadata": {},
   "outputs": [],
   "source": []
  }
 ],
 "metadata": {
  "kernelspec": {
   "display_name": "Python 3 (ipykernel)",
   "language": "python",
   "name": "python3"
  },
  "language_info": {
   "codemirror_mode": {
    "name": "ipython",
    "version": 3
   },
   "file_extension": ".py",
   "mimetype": "text/x-python",
   "name": "python",
   "nbconvert_exporter": "python",
   "pygments_lexer": "ipython3",
   "version": "3.9.13"
  }
 },
 "nbformat": 4,
 "nbformat_minor": 5
}
