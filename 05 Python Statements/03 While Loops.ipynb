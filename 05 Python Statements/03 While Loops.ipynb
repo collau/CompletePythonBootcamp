{
 "cells": [
  {
   "cell_type": "markdown",
   "id": "763238e7",
   "metadata": {},
   "source": [
    "## While loops\n",
    "\n",
    "While loops will continue to execute a block of code <b>while</b> some conditions remains True.\n",
    "\n",
    "For example, <b>while</b> my pool is not full, keep filling my pool with water. Or, <b>while</b> my dogs are hungry, keep feeding my dogs."
   ]
  },
  {
   "cell_type": "code",
   "execution_count": 1,
   "id": "d3179ccc",
   "metadata": {},
   "outputs": [
    {
     "name": "stdout",
     "output_type": "stream",
     "text": [
      "The current value of x is 0\n",
      "The current value of x is 1\n",
      "The current value of x is 2\n",
      "The current value of x is 3\n",
      "The current value of x is 4\n"
     ]
    }
   ],
   "source": [
    "x = 0\n",
    "\n",
    "while x < 5:\n",
    "    print(f'The current value of x is {x}')\n",
    "    x += 1"
   ]
  },
  {
   "cell_type": "code",
   "execution_count": 2,
   "id": "9c158737",
   "metadata": {},
   "outputs": [
    {
     "name": "stdout",
     "output_type": "stream",
     "text": [
      "The current value of x is 0\n",
      "The current value of x is 1\n",
      "The current value of x is 2\n",
      "The current value of x is 3\n",
      "The current value of x is 4\n",
      "y is not less than 5\n"
     ]
    }
   ],
   "source": [
    "y = 0\n",
    "\n",
    "while y < 5:\n",
    "    print(f'The current value of x is {y}')\n",
    "    y += 1\n",
    "else:\n",
    "    print('y is not less than 5')"
   ]
  },
  {
   "cell_type": "markdown",
   "id": "a4ae5298",
   "metadata": {},
   "source": [
    "## break, continue, pass\n",
    "\n",
    "We can use break, continue and pass statements in our loops to add additional functionality for various cases. The three statements are defined by:\n",
    "\n",
    "<code>\n",
    "    break: Breaks out of the current closest enclosing loop.\n",
    "    continue: Goes to the top of the closest enclosing loop.\n",
    "    pass: Does nothing at all.\n",
    "</code>"
   ]
  },
  {
   "cell_type": "code",
   "execution_count": 5,
   "id": "6963e628",
   "metadata": {},
   "outputs": [
    {
     "name": "stdout",
     "output_type": "stream",
     "text": [
      "end of my script\n"
     ]
    }
   ],
   "source": [
    "test = [1,2,3]\n",
    "\n",
    "for item in test:\n",
    "    # comment\n",
    "    pass #placeholder\n",
    "\n",
    "print('end of my script')"
   ]
  },
  {
   "cell_type": "code",
   "execution_count": 6,
   "id": "72d83043",
   "metadata": {},
   "outputs": [
    {
     "name": "stdout",
     "output_type": "stream",
     "text": [
      "S\n",
      "m\n",
      "m\n",
      "y\n"
     ]
    }
   ],
   "source": [
    "myString = 'Sammy'\n",
    "\n",
    "for letter in myString:\n",
    "    if letter == 'a':\n",
    "        continue\n",
    "        \n",
    "    print(letter)"
   ]
  },
  {
   "cell_type": "code",
   "execution_count": 7,
   "id": "25d9b960",
   "metadata": {},
   "outputs": [
    {
     "name": "stdout",
     "output_type": "stream",
     "text": [
      "S\n"
     ]
    }
   ],
   "source": [
    "myString2 = 'Sammy'\n",
    "\n",
    "for letter in myString2:\n",
    "    if letter == 'a':\n",
    "        break\n",
    "        \n",
    "    print(letter)"
   ]
  },
  {
   "cell_type": "code",
   "execution_count": 8,
   "id": "c4c8c851",
   "metadata": {},
   "outputs": [
    {
     "name": "stdout",
     "output_type": "stream",
     "text": [
      "0\n",
      "1\n"
     ]
    }
   ],
   "source": [
    "testNum = 0\n",
    "\n",
    "while testNum < 5:\n",
    "    if (testNum == 2):\n",
    "        break\n",
    "        \n",
    "    print(testNum)\n",
    "    testNum += 1"
   ]
  },
  {
   "cell_type": "code",
   "execution_count": null,
   "id": "219b2bb4",
   "metadata": {},
   "outputs": [],
   "source": []
  }
 ],
 "metadata": {
  "kernelspec": {
   "display_name": "Python 3 (ipykernel)",
   "language": "python",
   "name": "python3"
  },
  "language_info": {
   "codemirror_mode": {
    "name": "ipython",
    "version": 3
   },
   "file_extension": ".py",
   "mimetype": "text/x-python",
   "name": "python",
   "nbconvert_exporter": "python",
   "pygments_lexer": "ipython3",
   "version": "3.9.13"
  }
 },
 "nbformat": 4,
 "nbformat_minor": 5
}
